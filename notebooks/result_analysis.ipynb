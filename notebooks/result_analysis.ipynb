{
 "cells": [
  {
   "cell_type": "markdown",
   "metadata": {},
   "source": [
    "# Analysis of Social Network Simulation Results\n",
    "\n",
    "This notebook provides in-depth analysis of simulation results and network properties."
   ]
  },
  {
   "cell_type": "code",
   "execution_count": null,
   "metadata": {},
   "source": [
    "import sys\n",
    "sys.path.append('..')\n",
    "\n",
    "import numpy as np\n",
    "import networkx as nx\n",
    "import pandas as pd\n",
    "import matplotlib.pyplot as plt\n",
    "import seaborn as sns\n",
    "from src.network.metrics import compute_network_metrics\n",
    "from src.visualization.network_visualizer import NetworkVisualizer\n",
    "from src.visualization.propagation_graphs import PropagationVisualizer"
   ]
  },
  {
   "cell_type": "markdown",
   "metadata": {},
   "source": [
    "## 1. Load and Prepare Results"
   ]
  },
  {
   "cell_type": "code",
   "execution_count": null,
   "metadata": {},
   "source": [
    "# Load simulation results\n",
    "results_path = '../data/output/simulation_results.npz'\n",
    "results = np.load(results_path, allow_pickle=True)\n",
    "\n",
    "# Extract key metrics\n",
    "network_states = results['network_states']\n",
    "influence_scores = results['influence_scores']\n",
    "message_propagation = results['message_propagation']\n",
    "\n",
    "# Initialize visualizers\n",
    "network_vis = NetworkVisualizer()\n",
    "prop_vis = PropagationVisualizer()"
   ]
  },
  {
   "cell_type": "markdown",
   "metadata": {},
   "source": [
    "## 2. Network Evolution Analysis"
   ]
  },
  {
   "cell_type": "code",
   "execution_count": null,
   "metadata": {},
   "source": [
    "# Analyze network evolution\n",
    "metrics_over_time = []\n",
    "for network in network_states:\n",
    "    metrics = compute_network_metrics(network)\n",
    "    metrics_over_time.append(metrics)\n",
    "\n",
    "# Convert to DataFrame for easier analysis\n",
    "metrics_df = pd.DataFrame(metrics_over_time)\n",
    "\n",
    "# Plot key metrics evolution\n",
    "fig, axes = plt.subplots(2, 2, figsize=(15, 10))\n",
    "metrics_df['density'].plot(ax=axes[0,0], title='Network Density')\n",
    "metrics_df['clustering_coefficient'].plot(ax=axes[0,1], \n",
    "                                        title='Clustering Coefficient')\n",
    "metrics_df['average_path_length'].plot(ax=axes[1,0], \n",
    "                                      title='Average Path Length')\n",
    "metrics_df['modularity'].plot(ax=axes[1,1], title='Modularity')\n",
    "\n",
    "for ax in axes.flat:\n",
    "    ax.grid(True)\n",
    "    ax.set_xlabel('Time Step')\n",
    "plt.tight_layout()\n",
    "plt.show()"
   ]
  },
  {
   "cell_type": "markdown",
   "metadata": {},
   "source": [
    "## 3. Influence Distribution Analysis"
   ]
  },
  {
   "cell_type": "code",
   "execution_count": null,
   "metadata": {},
   "source": [
    "# Analyze influence distribution\n",
    "influence_df = pd.DataFrame(influence_scores)\n",
    "\n",
    "# Plot influence distribution evolution\n",
    "plt.figure(figsize=(12, 6))\n",
    "sns.boxplot(data=influence_df)\n",
    "plt.title('Distribution of Influence Scores Over Time')\n",
    "plt.xlabel('Time Step')\n",
    "plt.ylabel('Influence Score')\n",
    "plt.xticks(rotation=45)\n",
    "plt.grid(True)\n",
    "plt.show()\n",
    "\n",
    "# Identify top influencers\n",
    "final_influence = influence_df.iloc[-1]\n",
    "top_influencers = final_influence.nlargest(5)\n",
    print("\nTop 5 Influencers:")
    print(top_influencers)

    # Track influence evolution of top influencers
    plt.figure(figsize=(12, 6))
    for node in top_influencers.index:
        plt.plot(influence_df[node], label=f'Node {node}')
    plt.title('Evolution of Top Influencer Scores')
    plt.xlabel('Time Step')
    plt.ylabel('Influence Score')
    plt.legend()
    plt.grid(True)
    plt.show()"
   ]
  },
  {
   "cell_type": "markdown",
   "metadata": {},
   "source": [
    "## 4. Message Propagation Analysis"
   ]
  },
  {
   "cell_type": "code",
   "execution_count": null,
   "metadata": {},
   "source": [
    "# Analyze message propagation patterns\n",
    "prop_df = pd.DataFrame(message_propagation)\n",
    "\n",
    "# Plot message reach and engagement\n",
    "fig, (ax1, ax2) = plt.subplots(1, 2, figsize=(15, 6))\n",
    "\n",
    "# Message reach over time\n",
    "prop_df['reach'].plot(ax=ax1)\n",
    "ax1.set_title('Message Reach Over Time')\n",
    "ax1.set_xlabel('Time Step')\n",
    "ax1.set_ylabel('Number of Nodes Reached')\n",
    "ax1.grid(True)\n",
    "\n",
    "# Message engagement over time\n",
    "prop_df['engagement'].plot(ax=ax2)\n",
    "ax2.set_title('User Engagement Over Time')\n",
    "ax2.set_xlabel('Time Step')\n",
    "ax2.set_ylabel('Engagement Level')\n",
    "ax2.grid(True)\n",
    "\n",
    "plt.tight_layout()\n",
    "plt.show()\n",
    "\n",
    "# Calculate propagation statistics\n",
    "print(\"\\nMessage Propagation Statistics:\")\n",
    "print(f\"Average Reach: {prop_df['reach'].mean():.2f}\")\n",
    "print(f\"Peak Reach: {prop_df['reach'].max()}\")\n",
    "print(f\"Average Engagement: {prop_df['engagement'].mean():.2f}\")\n",
    "print(f\"Peak Engagement: {prop_df['engagement'].max()}\")"
   ]
  },
  {
   "cell_type": "markdown",
   "metadata": {},
   "source": [
    "## 5. Community Structure Analysis"
   ]
  },
  {
   "cell_type": "code",
   "execution_count": null,
   "metadata": {},
   "source": [
    "# Analyze final network community structure\n",
    "final_network = network_states[-1]\n",
    "communities = nx.community.greedy_modularity_communities(final_network)\n",
    "\n",
    "# Visualize communities\n",
    "network_vis.plot_community_structure(\n",
    "    final_network,\n",
    "    communities,\n",
    "    title='Final Network Community Structure'\n",
    ")\n",
    "\n",
    "# Community statistics\n",
    "print(\"\\nCommunity Statistics:\")\n",
    "print(f\"Number of Communities: {len(communities)}\")\n",
    "community_sizes = [len(c) for c in communities]\n",
    "print(f\"Average Community Size: {np.mean(community_sizes):.2f}\")\n",
    "print(f\"Largest Community Size: {max(community_sizes)}\")\n",
    "print(f\"Smallest Community Size: {min(community_sizes)}\")"
   ]
  },
  {
   "cell_type": "markdown",
   "metadata": {},
   "source": [
    "## 6. Content Analysis"
   ]
  },
  {
   "cell_type": "code",
   "execution_count": null,
   "metadata": {},
   "source": [
    "# Analyze content distribution and engagement patterns\n",
    "if 'content_types' in results:\n",
    "    content_df = pd.DataFrame(results['content_types'])\n",
    "    \n",
    "    # Plot content type distribution\n",
    "    plt.figure(figsize=(12, 6))\n",
    "    content_df.plot(kind='area', stacked=True)\n",
    "    plt.title('Content Type Distribution Over Time')\n",
    "    plt.xlabel('Time Step')\n",
    "    plt.ylabel('Proportion')\n",
    "    plt.legend(title='Content Types', bbox_to_anchor=(1.05, 1))\n",
    "    plt.grid(True)\n",
    "    plt.tight_layout()\n",
    "    plt.show()\n",
    "    \n",
    "    # Content engagement analysis\n",
    "    if 'content_engagement' in results:\n",
    "        engagement_df = pd.DataFrame(results['content_engagement'])\n",
    "        \n",
    "        # Calculate engagement metrics per content type\n",
    "        print(\"\\nContent Engagement Metrics:\")\n",
    "        for content_type in engagement_df.columns:\n",
    "            print(f\"\\n{content_type}:\")\n",
    "            print(f\"Average Engagement: {engagement_df[content_type].mean():.2f}\")\n",
    "            print(f\"Peak Engagement: {engagement_df[content_type].max():.2f}\")"
   ]
  },
  {
   "cell_type": "markdown",
   "metadata": {},
   "source": [
    "## 7. Network Resilience Analysis"
   ]
  },
  {
   "cell_type": "code",
   "execution_count": null,
   "metadata": {},
   "source": [
    "# Analyze network resilience\n",
    "final_network = network_states[-1]\n",
    "\n",
    "def compute_resilience_metrics(G):\n",
    "    \"\"\"Compute various resilience metrics for the network.\"\"\"\n",
    "    metrics = {\n",
    "        'avg_clustering': nx.average_clustering(G),\n",
    "        'connectivity': nx.node_connectivity(G),\n",
    "        'assortativity': nx.degree_assortativity_coefficient(G),\n",
    "        'largest_component_size': len(max(nx.connected_components(G), key=len))\n",
    "    }\n",
    "    return metrics\n",
    "\n",
    "# Calculate baseline resilience metrics\n",
    "baseline_metrics = compute_resilience_metrics(final_network)\n",
    "print(\"\\nNetwork Resilience Metrics:\")\n",
    "for metric, value in baseline_metrics.items():\n",
    "    print(f\"{metric}: {value:.3f}\")\n",
    "\n",
    "# Simulate node removals and analyze impact\n",
    "removal_impacts = []\n",
    "for _ in range(10):  # Perform 10 random node removal simulations\n",
    "    G = final_network.copy()\n",
    "    nodes_to_remove = np.random.choice(list(G.nodes()), \n",
    "                                      size=int(0.1 * len(G.nodes())), \n",
    "                                      replace=False)\n",
    "    G.remove_nodes_from(nodes_to_remove)\n",
    "    metrics = compute_resilience_metrics(G)\n",
    "    removal_impacts.append(metrics)\n",
    "\n",
    "# Plot resilience analysis results\n",
    "impact_df = pd.DataFrame(removal_impacts)\n",
    "plt.figure(figsize=(12, 6))\n",
    "impact_df.boxplot()\n",
    "plt.title('Network Resilience: Impact of Random Node Removals')\n",
    "plt.ylabel('Metric Value')\n",
    "plt.xticks(rotation=45)\n",
    "plt.grid(True)\n",
    "plt.tight_layout()\n",
    "plt.show()"
   ]
  }
 ]
}
